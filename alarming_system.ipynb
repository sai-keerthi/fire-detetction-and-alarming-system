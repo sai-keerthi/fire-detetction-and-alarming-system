{
 "cells": [
  {
   "cell_type": "markdown",
   "id": "118b7c21",
   "metadata": {},
   "source": [
    "# alarming system\n"
   ]
  },
  {
   "cell_type": "code",
   "execution_count": 1,
   "id": "0a397da1",
   "metadata": {},
   "outputs": [],
   "source": [
    "import multiprocessing\n",
    "from playsound import playsound\n",
    "import smtplib\n",
    "def alarm_sound():\n",
    "    #email generation\n",
    "    recipientEmail = \"recipient email\"\n",
    "    recipientEmail = recipientEmail.lower()\n",
    "\n",
    "    try:\n",
    "        server = smtplib.SMTP('smtp.gmail.com', 587)\n",
    "        server.ehlo()\n",
    "        server.starttls()\n",
    "        server.login(\"comapany email\", 'password')\n",
    "        server.sendmail('company email', recipientEmail, \"Warning A Fire Accident has been reported on ABC Company\")\n",
    "        print(\"sent to {}\".format(recipientEmail))\n",
    "        server.close()\n",
    "    except Exception as e:\n",
    "    \tprint(e)\n",
    "    #alarm indicating sound\n",
    "    p = multiprocessing.Process(target=playsound, args=(r\"C:\\Users\\perik\\Desktop\\major\\sound.mp3\",))\n",
    "    p.start()\n",
    "    input(\"press ENTER to stop playback\")\n",
    "    p.terminate()"
   ]
  },
  {
   "cell_type": "markdown",
   "id": "a85d4fed",
   "metadata": {},
   "source": [
    "## opencv"
   ]
  },
  {
   "cell_type": "code",
   "execution_count": null,
   "id": "de2dea5e",
   "metadata": {},
   "outputs": [],
   "source": [
    "import cv2\n",
    "import numpy as np\n",
    "from PIL import Image\n",
    "import tensorflow as tf\n",
    "from keras.preprocessing import image\n",
    "#Load the saved model\n",
    "model = tf.keras.models.load_model(r\"C:\\Users\\perik\\Desktop\\major\\fire-detection-master\\model\\acc_model_6.h5\")\n",
    "\n",
    "fire_reported=0\n",
    "video = cv2.VideoCapture(0)\n",
    "while True:\n",
    "        _, frame = video.read()\n",
    "        #Convert the captured frame into RGB\n",
    "        im = Image.fromarray(frame, 'RGB')\n",
    "        #Resizing into 256x256 because we trained the model with this image size.\n",
    "        im = im.resize((256,256))\n",
    "        img_array = image.img_to_array(im)\n",
    "        img_array = np.expand_dims(img_array, axis=0) / 255\n",
    "        #Calling the predict method on model to predict 'fire' on the image\n",
    "        prediction =np.argmax(model.predict(img_array), axis=-1)\n",
    "        #print(prediction)\n",
    "        #if prediction is 0, which means there is fire in the frame.\n",
    "        if prediction == 0:\n",
    "                frame = cv2.cvtColor(frame, cv2.COLOR_RGB2GRAY)\n",
    "                print(\"Fire!!!!\") \n",
    "                fire_reported+=1\n",
    "        cv2.imshow(\"Capturing\", frame)\n",
    "        key=cv2.waitKey(1)\n",
    "        \n",
    "        if key == ord('q')or fire_reported>5:\n",
    "            break\n",
    "video.release()\n",
    "cv2.destroyAllWindows() \n",
    "alarm_sound()"
   ]
  },
  {
   "cell_type": "code",
   "execution_count": null,
   "id": "d0d6f48b",
   "metadata": {},
   "outputs": [],
   "source": []
  }
 ],
 "metadata": {
  "kernelspec": {
   "display_name": "Python 3 (ipykernel)",
   "language": "python",
   "name": "python3"
  },
  "language_info": {
   "codemirror_mode": {
    "name": "ipython",
    "version": 3
   },
   "file_extension": ".py",
   "mimetype": "text/x-python",
   "name": "python",
   "nbconvert_exporter": "python",
   "pygments_lexer": "ipython3",
   "version": "3.9.7"
  }
 },
 "nbformat": 4,
 "nbformat_minor": 5
}
